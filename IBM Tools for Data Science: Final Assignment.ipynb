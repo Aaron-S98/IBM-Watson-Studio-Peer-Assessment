{
    "cells": [
        {
            "metadata": {
                "collapsed": true
            },
            "cell_type": "markdown",
            "source": "# My Jupyter Notebook on IBM Watson Studio"
        },
        {
            "metadata": {},
            "cell_type": "markdown",
            "source": "**Aaron Sinclair**\n\nDesired Occupation: Junior Data Scientist\n\n"
        },
        {
            "metadata": {},
            "cell_type": "markdown",
            "source": "*I am interested in data science because I believe that this is a field suited to my personal strengths and talents. Throughout my degree, I have really enjoyed the challenges of working with large data sets to gain insight into underlying trends. So, this is something I want to pursue as a career*."
        },
        {
            "metadata": {},
            "cell_type": "markdown",
            "source": "### The code in Cell 5 will calculate 2 squared, assign that value to a new variable and print the value of that variable.  "
        },
        {
            "metadata": {},
            "cell_type": "code",
            "source": "new_variable = 2**2\n\nprint(new_variable)",
            "execution_count": 1,
            "outputs": [
                {
                    "output_type": "stream",
                    "text": "4\n",
                    "name": "stdout"
                }
            ]
        },
        {
            "metadata": {},
            "cell_type": "markdown",
            "source": "## **IBM Tools for Data Science:** [IBM Tools for Data Science Course Homepage](https://www.coursera.org/learn/open-source-tools-for-data-science?specialization=ibm-data-science#syllabus \"Course's Homepage\")\n\n****\n\n*During week 3 of this course we learnt how to use:*\n\n\n> 1. ```Watson Studio```\n  * What it is?\n  * How to make Juypter Notebooks?\n  * How to link the project to a GitHub repositry?\n  \n> 2. ```Other IBM Tools```\n  * ~~IBM Watson Studio~~\n  * IBM Watson Catalogue  \n  * Data Refinery\n  * SPSS Modeller/Statistics\n  * Watson Auto AI\n  * Watson OpenScale\n  \nProject Checklist:\n\n| Course        | Status           |\n| ------------- |:-------------:| \n| Week 1      | Completed | \n| Week 2      | Completed      |  \n| Week 3 | Completed      |  \n| Week 4 | ~~Completed~~ | \n\n\nExample Image:\n\n![alt text][logo]\n\n[logo]: https://www.livingstone-tech.com/wp-content/uploads/2019/06/ibm-logo-png-transparent-background-300x150.png \"Logo Title Text 2\"\n\n\n\n\n"
        }
    ],
    "metadata": {
        "kernelspec": {
            "name": "python3",
            "display_name": "Python 3.6",
            "language": "python"
        },
        "language_info": {
            "name": "python",
            "version": "3.6.9",
            "mimetype": "text/x-python",
            "codemirror_mode": {
                "name": "ipython",
                "version": 3
            },
            "pygments_lexer": "ipython3",
            "nbconvert_exporter": "python",
            "file_extension": ".py"
        }
    },
    "nbformat": 4,
    "nbformat_minor": 1
}